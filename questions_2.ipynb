{
 "cells": [
  {
   "cell_type": "code",
   "execution_count": 3,
   "id": "2969f380",
   "metadata": {},
   "outputs": [],
   "source": [
    "import pandas as pd\n",
    "from scipy import stats"
   ]
  },
  {
   "cell_type": "code",
   "execution_count": 5,
   "id": "1fab7914",
   "metadata": {},
   "outputs": [],
   "source": [
    "df = pd.read_csv(\"cats_sample.csv\")"
   ]
  },
  {
   "cell_type": "markdown",
   "id": "3deb2647",
   "metadata": {},
   "source": [
    "### 1. Find median females weight."
   ]
  },
  {
   "cell_type": "code",
   "execution_count": 3,
   "id": "587ee3bf",
   "metadata": {},
   "outputs": [
    {
     "name": "stdout",
     "output_type": "stream",
     "text": [
      "Median Bwt: 2.6500000000000004\n"
     ]
    }
   ],
   "source": [
    "# Median for all cats.                                                  \n",
    "median_bwt = df['Bwt'].median()\n",
    "\n",
    "print(\"Median Bwt:\", median_bwt)"
   ]
  },
  {
   "cell_type": "code",
   "execution_count": 14,
   "id": "963361bd",
   "metadata": {},
   "outputs": [
    {
     "name": "stdout",
     "output_type": "stream",
     "text": [
      "Median F: 2.2\n"
     ]
    }
   ],
   "source": [
    "# Median for females cats.\n",
    "median_f = df[df[\"Sex\"] == \"F\"][\"Bwt\"].median()\n",
    "print(\"Median F:\", round(median_f, 3))"
   ]
  },
  {
   "cell_type": "markdown",
   "id": "ccac2d13",
   "metadata": {},
   "source": [
    "### 2. Counting dispersion weight females. Result round up to third sign. "
   ]
  },
  {
   "cell_type": "code",
   "execution_count": 17,
   "id": "aa7034e3",
   "metadata": {},
   "outputs": [
    {
     "name": "stdout",
     "output_type": "stream",
     "text": [
      "Dispersion weight females: 0.032\n"
     ]
    }
   ],
   "source": [
    "# We choose only females.\n",
    "females = df[df[\"Sex\"] == \"F\"]\n",
    "# Counting dispersion (selective).\n",
    "variance_f = females[\"Bwt\"].var()\n",
    "\n",
    "print(\"Dispersion weight females:\", round(variance_f, 3))"
   ]
  },
  {
   "cell_type": "markdown",
   "id": "18c4f162",
   "metadata": {},
   "source": [
    "### 3. Find value Q3 for female weight."
   ]
  },
  {
   "cell_type": "markdown",
   "id": "3df6a0fa",
   "metadata": {},
   "source": [
    "Female weights:\n",
    "2.2, 2.2, 2.1, 2.6, 2.1, 2.3, 2.1\n",
    "Sort them:\n",
    "2.1, 2.1, 2.1, 2.2, 2.2, 2.3, 2.6\n",
    "\n",
    "There are 7 values total →\n",
    "Q3 (the 75th percentile) is at position:\n",
    "Q3=0.75×(n+1)=0.75×8=6.0\n",
    "\n",
    "So it’s the 6th value in the sorted list.\n",
    "Q3 = 2.3"
   ]
  },
  {
   "cell_type": "code",
   "execution_count": 20,
   "id": "8fac16fe",
   "metadata": {},
   "outputs": [
    {
     "name": "stdout",
     "output_type": "stream",
     "text": [
      "Q3: 2.25\n"
     ]
    }
   ],
   "source": [
    "df = pd.read_csv(\"cats_sample.csv\")\n",
    "\n",
    "q3_f = df[df[\"Sex\"] == \"F\"][\"Bwt\"].quantile(0.75)\n",
    "print(\"Q3:\", round(q3_f, 3))"
   ]
  },
  {
   "cell_type": "markdown",
   "id": "558eb38b",
   "metadata": {},
   "source": [
    "### 4. Count interquartile range (IQR) for weight of females."
   ]
  },
  {
   "cell_type": "markdown",
   "id": "2163d0c6",
   "metadata": {},
   "source": [
    "Quartiles:\n",
    "Q1 (25th percentile) → 2nd value (since 0.25×(7+1)=2) = 2.1\n",
    "Q3 (75th percentile) → 6th value = 2.3\n",
    "\n",
    "Interquartile range:\n",
    "IQR=Q3 − Q1 = 2.3 − 2.1 = 0.2"
   ]
  },
  {
   "cell_type": "code",
   "execution_count": 21,
   "id": "41b4f56a",
   "metadata": {},
   "outputs": [
    {
     "name": "stdout",
     "output_type": "stream",
     "text": [
      "IQR:  0.15\n"
     ]
    }
   ],
   "source": [
    "females = df[df[\"Sex\"] == \"F\"][\"Bwt\"]\n",
    "iqr_f = females.quantile(0.75) - females.quantile(0.25)\n",
    "print(\"IQR: \", round(iqr_f, 3))"
   ]
  },
  {
   "cell_type": "markdown",
   "id": "947537c8",
   "metadata": {},
   "source": [
    "### 5. Is weight of female 2.5 kg an outlier?"
   ]
  },
  {
   "cell_type": "markdown",
   "id": "dcd84af7",
   "metadata": {},
   "source": [
    "2. Compute bounds for outliers:\n",
    "Lower bound=Q1−1.5×IQR=2.1−1.5(0.2)=1.8\n",
    "Upper bound=Q3+1.5×IQR=2.3+1.5(0.2)=2.6\n",
    "\n",
    "3. Compare the value:\n",
    "The given weight = 2.5 kg\n",
    "It is within [1.8, 2.6]\n",
    "Conclusion:\n",
    "A 2.5 kg female cat is not an outlier based on the IQR rule."
   ]
  },
  {
   "cell_type": "code",
   "execution_count": 26,
   "id": "d112ba09",
   "metadata": {},
   "outputs": [
    {
     "name": "stdout",
     "output_type": "stream",
     "text": [
      "lower: 1.875, upper: 2.475, \n",
      "Is 2.5 kg an outlier? True\n"
     ]
    }
   ],
   "source": [
    "q1 = females.quantile(0.25)\n",
    "q3 = females.quantile(0.75)\n",
    "iqr = q3 - q1\n",
    "\n",
    "lower = q1 - 1.5 * iqr\n",
    "upper = q3 + 1.5 * iqr\n",
    "\n",
    "is_outlier = not(lower <= 2.5 <= upper)\n",
    "print(f\"lower: {round(lower, 3)}, upper: {round(upper, 3)}, \\nIs 2.5 kg an outlier? {is_outlier}\")"
   ]
  },
  {
   "cell_type": "markdown",
   "id": "9bdadd4b",
   "metadata": {},
   "source": [
    "### 6. Count mean and standard deviation of weight of males. Round results to second sign (0.XX)"
   ]
  },
  {
   "cell_type": "code",
   "execution_count": 4,
   "id": "f0eeb7a8",
   "metadata": {},
   "outputs": [
    {
     "name": "stdout",
     "output_type": "stream",
     "text": [
      "Mean mean: 3.11\n",
      "Standard deviation of weight: 0.56\n"
     ]
    }
   ],
   "source": [
    "# Filter males.\n",
    "\n",
    "males = df[df[\"Sex\"] ==  \"M\"][\"Bwt\"]\n",
    "\n",
    "# Calculate mean and standard deviation\n",
    "mean_m = round(males.mean(), 2)\n",
    "std_m = round(males.std(), 2)\n",
    "\n",
    "print(f\"Mean mean: {mean_m}\")\n",
    "print(f\"Standard deviation of weight: {std_m}\")"
   ]
  },
  {
   "cell_type": "markdown",
   "id": "df897395",
   "metadata": {},
   "source": [
    "### 7. Count mean and standard deviation of weight of female. Round results to second sing (0.XX): "
   ]
  },
  {
   "cell_type": "code",
   "execution_count": 17,
   "id": "b077e247",
   "metadata": {},
   "outputs": [
    {
     "name": "stdout",
     "output_type": "stream",
     "text": [
      "Females mean: 2.23\n",
      "Standard deviation of weight: 0.18\n"
     ]
    }
   ],
   "source": [
    "# Filter females.\n",
    "females = df[df[\"Sex\"] == \"F\"][\"Bwt\"]\n",
    "\n",
    "# Calculation mean and standard deviation.\n",
    "mean_f = round(females.mean(), 2)\n",
    "std_f = round(females.std(), 2)\n",
    "\n",
    "print(f\"Females mean: {mean_f}\")\n",
    "print(f\"Standard deviation of weight: {std_f}\")"
   ]
  },
  {
   "cell_type": "markdown",
   "id": "e9f1e3fc",
   "metadata": {},
   "source": [
    "### 8. Can we say that average weight of an adult male is greater then weight of a female (for this data set)?"
   ]
  },
  {
   "cell_type": "code",
   "execution_count": 15,
   "id": "10e58932",
   "metadata": {},
   "outputs": [
    {
     "name": "stdout",
     "output_type": "stream",
     "text": [
      "t-statistic: 6.05\n",
      "p-value (one-tailed): 5e-05\n"
     ]
    }
   ],
   "source": [
    "males = df[df[\"Sex\"] == \"M\"][\"Bwt\"]\n",
    "females = df[df[\"Sex\"] == \"F\"][\"Bwt\"]\n",
    "\n",
    "# One-tailed t-test (Welch's version, unequal variances)\n",
    "t_stat, p_val_two_tailed = stats.ttest_ind(males, females, equal_var=False)\n",
    "p_val_one_tailed = p_val_two_tailed / 2 # for H1: mean_males > mean_females\n",
    "\n",
    "mean_m = round(males.mean(), 2)\n",
    "mean_f = round(females.mean(), 2)\n",
    "\n",
    "print(f\"t-statistic: {6.05}\")\n",
    "print(f\"p-value (one-tailed): {round(p_val_one_tailed, 5)}\")"
   ]
  },
  {
   "cell_type": "markdown",
   "id": "7801baf4",
   "metadata": {},
   "source": [
    "### 9 Calculate distance in standard deviations from to mean for female cat with weighing 2.5 kg. Use answer to question 7. Round result to firs digit (0.X)"
   ]
  },
  {
   "cell_type": "markdown",
   "id": "2aeeb309",
   "metadata": {},
   "source": [
    "Step 1. Calculate the mean and standard deviation for females\n",
    "\n",
    "Step 2. Distance in standard deviations for a female weighing 2.5 kg\n",
    "\n",
    "Formula:\n",
    "z = (x - mean) / std"
   ]
  },
  {
   "cell_type": "code",
   "execution_count": 18,
   "id": "ca4f3fdf",
   "metadata": {},
   "outputs": [
    {
     "name": "stdout",
     "output_type": "stream",
     "text": [
      "Distance in standard deviations: 1.5\n"
     ]
    }
   ],
   "source": [
    "x = 2.5\n",
    "z = round((x - mean_f) / std_f, 1)\n",
    "print(f\"Distance in standard deviations: {z}\")"
   ]
  },
  {
   "cell_type": "markdown",
   "id": "298badd6",
   "metadata": {},
   "source": [
    "### 10. How you interpret the result in get question 9?"
   ]
  },
  {
   "cell_type": "markdown",
   "id": "d575cab2",
   "metadata": {},
   "source": [
    "A female weighing 2.5 kg weighs more than most females."
   ]
  }
 ],
 "metadata": {
  "kernelspec": {
   "display_name": ".venv",
   "language": "python",
   "name": "python3"
  },
  "language_info": {
   "codemirror_mode": {
    "name": "ipython",
    "version": 3
   },
   "file_extension": ".py",
   "mimetype": "text/x-python",
   "name": "python",
   "nbconvert_exporter": "python",
   "pygments_lexer": "ipython3",
   "version": "3.12.3"
  }
 },
 "nbformat": 4,
 "nbformat_minor": 5
}
