{
 "cells": [
  {
   "cell_type": "markdown",
   "id": "ae22a7a3",
   "metadata": {},
   "source": [
    "### 1. What many variables are in flats datasets?"
   ]
  },
  {
   "cell_type": "markdown",
   "id": "ec59151d",
   "metadata": {},
   "source": [
    "4 variables (columns):"
   ]
  },
  {
   "cell_type": "markdown",
   "id": "d5c38a95",
   "metadata": {},
   "source": [
    "### 2. How many cities are there in the apartment datasets?"
   ]
  },
  {
   "cell_type": "markdown",
   "id": "0eca8f42",
   "metadata": {},
   "source": [
    "There are 13 cities in the dataset."
   ]
  },
  {
   "cell_type": "markdown",
   "id": "d9d7ae2b",
   "metadata": {},
   "source": [
    "### 3. Are all of them really cities?"
   ]
  },
  {
   "cell_type": "markdown",
   "id": "6d0b3104",
   "metadata": {},
   "source": [
    "Not exactly -- not all entries in are cities.\n",
    "One of them -- \"Києво Святошинський\" -- is district, not a city."
   ]
  },
  {
   "cell_type": "markdown",
   "id": "52a8c7a0",
   "metadata": {},
   "source": [
    "How many three-room apartments are for sale in Odesa?"
   ]
  },
  {
   "cell_type": "code",
   "execution_count": 2,
   "id": "772b8fef",
   "metadata": {},
   "outputs": [],
   "source": [
    "import pandas as pd "
   ]
  },
  {
   "cell_type": "code",
   "execution_count": null,
   "id": "d1cbb3ea",
   "metadata": {},
   "outputs": [],
   "source": [
    "df = pd.read_csv(\"flats.csv\") # pyright: ignore[reportUnknownMemberType]"
   ]
  },
  {
   "cell_type": "code",
   "execution_count": 5,
   "id": "549851a9",
   "metadata": {},
   "outputs": [
    {
     "name": "stdout",
     "output_type": "stream",
     "text": [
      "Number of 3-room apartment in Odesa: 11\n"
     ]
    }
   ],
   "source": [
    "odesa_3room = df[(df[\"Місто\"] ==  \"Одеса\") & (df[\"Кімнат\"] == 3)]\n",
    "\n",
    "count = len(odesa_3room)\n",
    "\n",
    "print(\"Number of 3-room apartment in Odesa:\", count)"
   ]
  },
  {
   "cell_type": "markdown",
   "id": "d57046c1",
   "metadata": {},
   "source": [
    "### 5. What is median area of a one-room apartment in city of Lviv?"
   ]
  },
  {
   "cell_type": "code",
   "execution_count": 9,
   "id": "2df9a472",
   "metadata": {},
   "outputs": [
    {
     "name": "stdout",
     "output_type": "stream",
     "text": [
      "Median are of 1-room apartments in Lviv: 43.0\n"
     ]
    }
   ],
   "source": [
    "df[\"Загальна_площа\"] = df[\"Загальна_площа\"].astype(str).str.replace(\",\", \".\").astype(float)\n",
    "lviv_1room = df[(df[\"Місто\"] == \"Львів\") & (df[\"Кімнат\"] == 1)]\n",
    "median_area = lviv_1room[\"Загальна_площа\"].median()\n",
    "\n",
    "print(\"Median are of 1-room apartments in Lviv:\", median_area)"
   ]
  },
  {
   "cell_type": "code",
   "execution_count": null,
   "id": "76f95011",
   "metadata": {},
   "outputs": [],
   "source": []
  }
 ],
 "metadata": {
  "kernelspec": {
   "display_name": ".venv",
   "language": "python",
   "name": "python3"
  },
  "language_info": {
   "codemirror_mode": {
    "name": "ipython",
    "version": 3
   },
   "file_extension": ".py",
   "mimetype": "text/x-python",
   "name": "python",
   "nbconvert_exporter": "python",
   "pygments_lexer": "ipython3",
   "version": "3.12.3"
  }
 },
 "nbformat": 4,
 "nbformat_minor": 5
}
