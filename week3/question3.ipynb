{
 "cells": [
  {
   "cell_type": "code",
   "execution_count": 4,
   "id": "585572a1",
   "metadata": {},
   "outputs": [],
   "source": [
    "from fractions import Fraction\n",
    "from math import comb"
   ]
  },
  {
   "cell_type": "markdown",
   "id": "e8b7fd89",
   "metadata": {},
   "source": [
    "### 1. There is a lottery giving a trip for two to Canary Islands. To win, you need to buy a lottery ticket. You bought 7 tickets. What is the probability of wining this tip if a total of 50,000 tickets were issued?"
   ]
  },
  {
   "cell_type": "code",
   "execution_count": 9,
   "id": "db1470e4",
   "metadata": {},
   "outputs": [
    {
     "name": "stdout",
     "output_type": "stream",
     "text": [
      "Lottery Probability Calculator\n",
      "Total tickets issued: 50,000\n",
      "Tickets bought:       7\n",
      "Probability (decimal): 0.00014000\n",
      "Probability (present): 0.014000%\n",
      "Exact fraction:        7/50000\n"
     ]
    }
   ],
   "source": [
    "\"\"\"\n",
    "Lottery Probability Calculator\n",
    "------------------------------\n",
    "Task: \n",
    "There are 50,000 lottery tickets issued. You bought 7 tickets.\n",
    "Find the Probability of winning a trip for two the Canary Islands.\n",
    "\"\"\"\n",
    "\n",
    "\n",
    "def calculate_probability(tickets_bought: int, total_tickets: int) -> float:\n",
    "    \"\"\"\n",
    "    Calculate the probability of winning when a give number of tickets are bought.\n",
    "\n",
    "    Parameters\n",
    "    ----------\n",
    "    tickets_bought : int\n",
    "        Number of tickets purchased by the player.\n",
    "    total_tickets : int\n",
    "        Total number of tickets issued in the lottery.    \n",
    "\n",
    "    Returns\n",
    "    -------\n",
    "    float\n",
    "        Probability of winning at least one prize.\n",
    "    \"\"\"\n",
    "    if tickets_bought < 0 or total_tickets <= 0:\n",
    "        raise ValueError(\"Ticket counts must be positive integers.\")\n",
    "    if tickets_bought > total_tickets:\n",
    "        raise ValueError(\"Bought tickets cannot exceed total tickets.\")\n",
    "    \n",
    "    probability = tickets_bought / total_tickets\n",
    "    return probability\n",
    "\n",
    "def main() -> None:\n",
    "    \"\"\"Main execution block.\"\"\"\n",
    "    total_tickets = 50_000\n",
    "    tickets_bought = 7\n",
    "    \n",
    "    probability = calculate_probability(tickets_bought, total_tickets)\n",
    "    \n",
    "    percentage = probability * 100\n",
    "    fraction_form = Fraction(tickets_bought, total_tickets).limit_denominator()\n",
    "    \n",
    "    print(f\"\"\"Lottery Probability Calculator\n",
    "Total tickets issued: {total_tickets:,}\n",
    "Tickets bought:       {tickets_bought}\n",
    "Probability (decimal): {probability:.8f}\n",
    "Probability (present): {percentage:.6f}%\n",
    "Exact fraction:        {fraction_form}\"\"\")\n",
    "    \n",
    "if __name__ == \"__main__\":\n",
    "    main()\n",
    "    "
   ]
  },
  {
   "cell_type": "markdown",
   "id": "6f6104bd",
   "metadata": {},
   "source": [
    "### 2. If you flip a coin three times, what is the probability of getting at least two heads?"
   ]
  },
  {
   "cell_type": "code",
   "execution_count": 12,
   "id": "c34e3926",
   "metadata": {},
   "outputs": [
    {
     "name": "stdout",
     "output_type": "stream",
     "text": [
      "\n",
      "Coin Flip Probability Calculation\n",
      "Total flips:            3\n",
      "At least heads:         2\n",
      "Probability (decimal):  0.5000\n",
      "Probability (percent):  50.00%\n",
      "\n",
      "Exact fraction: 4/8\n"
     ]
    }
   ],
   "source": [
    "def probability_at_least_k_heads(flips: int, min_heads: int) -> float:\n",
    "    \"\"\"\n",
    "    Calculate the probability of getting at least `min_heads` heads\n",
    "    when flipping a fair coin `flips` times.\n",
    "\n",
    "    Parameters\n",
    "    ----------\n",
    "    flips : int\n",
    "        Total number of coin flips.\n",
    "    min_heads : int\n",
    "        Minimum number of head desired.\n",
    "        \n",
    "    Returns\n",
    "    -------\n",
    "    float\n",
    "        Probability of getting at least `min_heads` heads.\n",
    "    \"\"\"\n",
    "    \n",
    "    if flips <= 0:\n",
    "        raise ValueError(\"Number of flips must be positive.\")\n",
    "    if not (0 <= min_heads <= flips):\n",
    "        raise ValueError(\"min_heads must be between 0 and total flips.\")\n",
    "    \n",
    "    # Total possible outcomes = 2 ** flips\n",
    "    total_outcomes = 2 ** flips\n",
    "    \n",
    "    # Sum probabilities for getting k = min_heads, min_heads+1, ..., flips.\n",
    "    probability = sum(comb(flips, k) for k in range(min_heads, flips + 1)) / total_outcomes\n",
    "    \n",
    "    return probability\n",
    "    \n",
    "    \n",
    "def main() -> None:\n",
    "    \"\"\"Main execution block.\"\"\"\n",
    "    flips = 3\n",
    "    min_heads = 2\n",
    "\n",
    "    probability = probability_at_least_k_heads(flips, min_heads)\n",
    "    \n",
    "    print(f\"\"\"\n",
    "Coin Flip Probability Calculation\n",
    "Total flips:            {flips}\n",
    "At least heads:         {min_heads}\n",
    "Probability (decimal):  {probability:.4f}\n",
    "Probability (percent):  {probability * 100:.2f}%\n",
    "\"\"\")\n",
    "    \n",
    "    numerator = sum(comb(flips, k) for k in range(min_heads, flips + 1))\n",
    "    denominator = 2 ** flips\n",
    "    print(f\"Exact fraction: {numerator}/{denominator}\")\n",
    "\n",
    "if __name__ == \"__main__\":\n",
    "    main()"
   ]
  },
  {
   "cell_type": "markdown",
   "id": "1c6ad85d",
   "metadata": {},
   "source": [
    "### 3. Stepan and Olena recently got married. They plan to have three children. What is the probability that  two boys and one girl, will be born if the probability of having a boy is 51%"
   ]
  },
  {
   "cell_type": "code",
   "execution_count": 6,
   "id": "e4f6b649",
   "metadata": {},
   "outputs": [
    {
     "name": "stdout",
     "output_type": "stream",
     "text": [
      "\n",
      "Children Gender Probability Calculator\n",
      "Total children:             3\n",
      "Desired boys:               2\n",
      "Probability of boy:         0.51\n",
      "Probability (decimal):      0.3823\n",
      "Probability (percent):      38.23%\n",
      "\n"
     ]
    }
   ],
   "source": [
    "\"\"\"\n",
    "Children Gender Probability Calculator\n",
    "--------------------------------------\n",
    "Task:\n",
    "Stepan and Olena plan to have 3 children. The probability of having a boy is 0.51.\n",
    "Find the probability of having exactly two boys and one girl.\n",
    "\"\"\"\n",
    "\n",
    "def probability_exact_k_boys(n_children: int, k_boys: int, p_boy: float) -> float:\n",
    "    \"\"\"\n",
    "    Compute the probability of having exactly `k_boys` out of `n_children`.\n",
    "    \n",
    "    Parameters\n",
    "    ----------\n",
    "    n_children : int\n",
    "        Total number of children planned.\n",
    "    k_boys : int\n",
    "        Exact number of boys desired.\n",
    "    p_boy : float\n",
    "        Probability of having a boy (between 0 and 1).\n",
    "    \n",
    "    Returns\n",
    "    -------\n",
    "    float\n",
    "        Probability of having k_boy boys.\n",
    "    \"\"\"\n",
    "    if not (0 <= p_boy <= 1):\n",
    "        raise ValueError(\"Probability of boy must be between 0 and 1.\")\n",
    "    if not (0 <= k_boys <= n_children):\n",
    "        raise ValueError(\"Number of boys must be between 0 and total children.\")\n",
    "    \n",
    "    probability = comb(n_children, k_boys) * (p_boy ** k_boys) * ((1 - p_boy) ** (n_children - k_boys))\n",
    "    return probability\n",
    "\n",
    "def main() -> None:\n",
    "    \"\"\"Main execution block.\"\"\"\n",
    "    n_children = 3\n",
    "    k_boys = 2\n",
    "    p_boy = 0.51\n",
    "    \n",
    "    probability = probability_exact_k_boys(n_children, k_boys, p_boy)\n",
    "    \n",
    "    print(f\"\"\"\n",
    "Children Gender Probability Calculator\n",
    "Total children:             {n_children}\n",
    "Desired boys:               {k_boys}\n",
    "Probability of boy:         {p_boy:.2f}\n",
    "Probability (decimal):      {probability:.4f}\n",
    "Probability (percent):      {probability * 100:.2f}%\n",
    "\"\"\")\n",
    "    \n",
    "if __name__ == \"__main__\":\n",
    "    main()"
   ]
  },
  {
   "cell_type": "code",
   "execution_count": null,
   "id": "660aa03e",
   "metadata": {},
   "outputs": [],
   "source": [
    "\n"
   ]
  }
 ],
 "metadata": {
  "kernelspec": {
   "display_name": ".venv",
   "language": "python",
   "name": "python3"
  },
  "language_info": {
   "codemirror_mode": {
    "name": "ipython",
    "version": 3
   },
   "file_extension": ".py",
   "mimetype": "text/x-python",
   "name": "python",
   "nbconvert_exporter": "python",
   "pygments_lexer": "ipython3",
   "version": "3.12.3"
  }
 },
 "nbformat": 4,
 "nbformat_minor": 5
}
